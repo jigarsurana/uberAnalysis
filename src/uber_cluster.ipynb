{
 "cells": [
  {
   "cell_type": "code",
   "execution_count": 1,
   "metadata": {
    "collapsed": true
   },
   "outputs": [],
   "source": [
    "import cPickle as pickle\n",
    "from sklearn.cluster import KMeans as km"
   ]
  },
  {
   "cell_type": "code",
   "execution_count": 5,
   "metadata": {
    "collapsed": false
   },
   "outputs": [
    {
     "name": "stdout",
     "output_type": "stream",
     "text": [
      "95347\n"
     ]
    }
   ],
   "source": [
    "all_data = pickle.load(open(\"../data/all_data_new.p\", \"rb\"))\n",
    "\n",
    "t = 22\n",
    "lat_long = []\n",
    "for row in all_data[t]:\n",
    "\tlat_long.append([row[3], row[4]])\n",
    "print len(all_data[t])\n",
    "\n",
    "for k in range(160, 270, 10):\n",
    "\tkmeans = km(k, max_iter=1000, n_init = 50,init = 'k-means++')\n",
    "\tkmeans.fit(lat_long)\n",
    "\tf = open('../output_{t_val}_{k_val}.txt'.format(t_val = t, k_val = k),'w')\n",
    "\ts = \"k = {k_val}, inertia = {inertia_}\\n\".format(k_val = k, inertia_ = kmeans.inertia_)\n",
    "\tf.write(s)\n",
    "\tf.close()"
   ]
  },
  {
   "cell_type": "code",
   "execution_count": null,
   "metadata": {
    "collapsed": true
   },
   "outputs": [],
   "source": []
  }
 ],
 "metadata": {
  "kernelspec": {
   "display_name": "Python 2",
   "language": "python",
   "name": "python2"
  },
  "language_info": {
   "codemirror_mode": {
    "name": "ipython",
    "version": 2
   },
   "file_extension": ".py",
   "mimetype": "text/x-python",
   "name": "python",
   "nbconvert_exporter": "python",
   "pygments_lexer": "ipython2",
   "version": "2.7.10"
  }
 },
 "nbformat": 4,
 "nbformat_minor": 0
}
